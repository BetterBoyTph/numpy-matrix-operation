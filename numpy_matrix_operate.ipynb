{
 "cells": [
  {
   "cell_type": "code",
   "execution_count": 3,
   "metadata": {},
   "outputs": [],
   "source": [
    "# 学习numpy中矩阵操作的代码笔记\n",
    "import numpy as np"
   ]
  },
  {
   "cell_type": "code",
   "execution_count": 7,
   "metadata": {},
   "outputs": [
    {
     "name": "stdout",
     "output_type": "stream",
     "text": [
      "[1 2 3]\n",
      "(3,)\n",
      "<class 'numpy.ndarray'>\n"
     ]
    }
   ],
   "source": [
    "#-------------------矩阵的创建，增删查改，索引，运算-------------------#\n",
    "\n",
    "#-------------------矩阵的创建，增删查改-------------------#\n",
    "#创建行向量\n",
    "x = np.array([1, 2, 3])\n",
    "print(x)\n",
    "print(x.shape)\n",
    "print(type(x))"
   ]
  },
  {
   "cell_type": "code",
   "execution_count": 8,
   "metadata": {},
   "outputs": [
    {
     "name": "stdout",
     "output_type": "stream",
     "text": [
      "[[1 2 3]\n",
      " [1 2 3]\n",
      " [2 3 4]]\n",
      "(3, 3)\n",
      "2\n"
     ]
    }
   ],
   "source": [
    "# 创建二维与多维矩阵\n",
    "matrix = np.array([[1, 2, 3], [1, 2, 3], [2, 3 ,4]])\n",
    "print(matrix)\n",
    "print(matrix.shape)\n",
    "print(matrix[0][1])"
   ]
  },
  {
   "cell_type": "code",
   "execution_count": 17,
   "metadata": {},
   "outputs": [
    {
     "name": "stdout",
     "output_type": "stream",
     "text": [
      "[[0. 0.]\n",
      " [0. 0.]]\n",
      "<class 'numpy.float64'>\n",
      "\n",
      "[[1. 1. 1.]\n",
      " [1. 1. 1.]\n",
      " [1. 1. 1.]]\n",
      "<class 'numpy.float64'>\n"
     ]
    }
   ],
   "source": [
    "## 创建特殊矩阵\n",
    "# 0矩阵\n",
    "zeros = np.zeros((2, 2)) # 注意这里有两个小括号\n",
    "print(zeros)\n",
    "print(type(zeros[0][0])) # 注意返回的元素为 float\n",
    "\n",
    "print()\n",
    "# 1矩阵\n",
    "ones = np.ones((3, 3))\n",
    "print(ones)\n",
    "print(type(ones[0][0]))\n"
   ]
  },
  {
   "cell_type": "code",
   "execution_count": 18,
   "metadata": {},
   "outputs": [
    {
     "name": "stdout",
     "output_type": "stream",
     "text": [
      "[[2 2 2]\n",
      " [2 2 2]]\n",
      "<class 'numpy.int32'>\n",
      "\n",
      "[[2. 2. 2.]\n",
      " [2. 2. 2.]]\n",
      "<class 'numpy.float64'>\n",
      "\n",
      "[[False False False]\n",
      " [False False False]]\n",
      "<class 'numpy.bool_'>\n"
     ]
    }
   ],
   "source": [
    "# 创建值相同的矩阵\n",
    "full = np.full((2, 3), 2) # 返回的矩阵元素的类型与给定的元素类型一致\n",
    "print(full)\n",
    "print(type(full[0][0]))\n",
    "\n",
    "print()\n",
    "full = np.full((2, 3), 2.0)\n",
    "print(full)\n",
    "print(type(full[0][0]))\n",
    "\n",
    "print()\n",
    "full = np.full((2, 3), False)\n",
    "print(full)\n",
    "print(type(full[0][0]))\n"
   ]
  },
  {
   "cell_type": "code",
   "execution_count": 23,
   "metadata": {},
   "outputs": [
    {
     "name": "stdout",
     "output_type": "stream",
     "text": [
      "[[1. 0. 0.]\n",
      " [0. 1. 0.]\n",
      " [0. 0. 1.]]\n",
      "<class 'numpy.float64'>\n",
      "\n",
      "[[1. 0. 0.]\n",
      " [0. 1. 0.]]\n"
     ]
    }
   ],
   "source": [
    "# 创建对角线为1的矩阵\n",
    "diag = np.eye(3, 3) # 注意只有一个小括号\n",
    "print(diag)\n",
    "print(type(diag[0][0]))\n",
    "\n",
    "print()\n",
    "diag = np.eye(2, 3) # 注意如果给定的行列数不等，则只让矩阵中的行列好相等的元素为1\n",
    "print(diag)\n"
   ]
  },
  {
   "cell_type": "code",
   "execution_count": 39,
   "metadata": {},
   "outputs": [
    {
     "name": "stdout",
     "output_type": "stream",
     "text": [
      "[[0.18626021 0.34556073 0.39676747]\n",
      " [0.53881673 0.41919451 0.6852195 ]]\n",
      "<class 'numpy.float64'>\n"
     ]
    }
   ],
   "source": [
    "# 创建随机矩阵（值为0-1）\n",
    "# np.random.seed(1)\n",
    "random = np.random.random((2, 3)) # 每次运行结果都不一样，要想使得每次运行结果一样，需要在前面加上 np.random.seed(1)\n",
    "print(random)\n",
    "print(type(random[0][0]))"
   ]
  },
  {
   "cell_type": "code",
   "execution_count": 46,
   "metadata": {},
   "outputs": [
    {
     "name": "stdout",
     "output_type": "stream",
     "text": [
      "[[ 0  1  2  3]\n",
      " [ 4  5  6  7]\n",
      " [ 8  9 10 11]]\n",
      "(3, 4)\n"
     ]
    }
   ],
   "source": [
    "# -----------------矩阵的索引，切片--------------------------#\n",
    "matrix = np.arange(12).reshape((3, 4))\n",
    "print(matrix)\n",
    "print(matrix.shape)"
   ]
  },
  {
   "cell_type": "code",
   "execution_count": 41,
   "metadata": {},
   "outputs": [
    {
     "name": "stdout",
     "output_type": "stream",
     "text": [
      "0\n",
      "0\n"
     ]
    }
   ],
   "source": [
    "# 单个元素的索引\n",
    "print(matrix[0][0])\n",
    "print(matrix[0, 0])"
   ]
  },
  {
   "cell_type": "code",
   "execution_count": 42,
   "metadata": {},
   "outputs": [
    {
     "name": "stdout",
     "output_type": "stream",
     "text": [
      "[1 5]\n",
      "(2,)\n"
     ]
    }
   ],
   "source": [
    "# 切片操作\n",
    "a = matrix[0:2, 1] # 注意只切片到冒号后面数字的前一位数字，如果缺省数字，则切片全部\n",
    "print(a)\n",
    "print(a.shape)"
   ]
  },
  {
   "cell_type": "code",
   "execution_count": 44,
   "metadata": {},
   "outputs": [
    {
     "name": "stdout",
     "output_type": "stream",
     "text": [
      "[[0 1 2 3]]\n",
      "(1, 4)\n",
      "\n",
      "[0 1 2 3]\n",
      "(4,)\n",
      "使用reshape调整维度后：\n",
      "[[0 1 2 3]]\n",
      "(1, 4)\n",
      "\n",
      "0\n",
      "()\n"
     ]
    }
   ],
   "source": [
    "# 注意切片后得到的结果维度的变化\n",
    "a1 = matrix[0:1, :] # 得到的是一个二维矩阵\n",
    "print(a1)\n",
    "print(a1.shape)\n",
    "\n",
    "print()\n",
    "a2 = matrix[0, :] # 得到的是一个一维的行向量\n",
    "print(a2)\n",
    "print(a2.shape)\n",
    "# 如果想得到一个矩阵需要使用reshape调整维度\n",
    "print(\"使用reshape调整维度后：\")\n",
    "a2 = matrix[0, :].reshape((1, -1))\n",
    "print(a2)\n",
    "print(a2.shape)\n",
    "\n",
    "print()\n",
    "a3 = matrix[0, 0] # 得到的是一个数\n",
    "print(a3)\n",
    "print(a3.shape)"
   ]
  },
  {
   "cell_type": "code",
   "execution_count": 45,
   "metadata": {},
   "outputs": [
    {
     "name": "stdout",
     "output_type": "stream",
     "text": [
      "[[0 1 2]\n",
      " [3 4 5]\n",
      " [6 7 8]]\n",
      "[[False False False]\n",
      " [False False False]\n",
      " [ True  True  True]]\n",
      "[6 7 8]\n"
     ]
    }
   ],
   "source": [
    "# 布尔型矩阵，可以用来索引一些满足条件的元素\n",
    "matrix = np.arange(9).reshape((3, 3))\n",
    "print(matrix)\n",
    "bool_id = matrix > 5 # 对matrix的每个元素进行条件判断，返回布尔矩阵\n",
    "print(bool_id)\n",
    "print(matrix[bool_id]) # 根据布尔矩阵提取matrix中的元素，并返回一维向量"
   ]
  },
  {
   "cell_type": "code",
   "execution_count": 50,
   "metadata": {},
   "outputs": [
    {
     "name": "stdout",
     "output_type": "stream",
     "text": [
      "[ 6  7  8  9 10 11]\n",
      "(6,)\n"
     ]
    }
   ],
   "source": [
    "# 也可以将上面的代码合并为一行\n",
    "result = matrix[matrix > 5]\n",
    "print(result)\n",
    "print(result.shape)"
   ]
  },
  {
   "cell_type": "code",
   "execution_count": 52,
   "metadata": {},
   "outputs": [
    {
     "name": "stdout",
     "output_type": "stream",
     "text": [
      "int32\n",
      "<class 'numpy.int32'>\n"
     ]
    }
   ],
   "source": [
    "#---------------------------numpy adarray的数据类型-----------------#\n",
    "# numpy ndarrray的数据类型是自动识别的，但也可以传入dtype参数进行指定\n",
    "# 如果输入整型，会给数据定义为int32\n",
    "matrix1 = np.array([1, 2, 3])\n",
    "print(matrix1.dtype)\n",
    "print(type(matrix1[0]))"
   ]
  },
  {
   "cell_type": "code",
   "execution_count": 54,
   "metadata": {},
   "outputs": [
    {
     "name": "stdout",
     "output_type": "stream",
     "text": [
      "float64\n",
      "<class 'numpy.float64'>\n"
     ]
    }
   ],
   "source": [
    "# 如果输入的数据为小数点型，则会给数据定义为float64\n",
    "matrix2 = np.array([1.0, 2.0, 3.0])\n",
    "print(matrix2.dtype)\n",
    "print(type(matrix2[0]))"
   ]
  },
  {
   "cell_type": "code",
   "execution_count": 55,
   "metadata": {},
   "outputs": [
    {
     "name": "stdout",
     "output_type": "stream",
     "text": [
      "float64\n",
      "<class 'numpy.float64'>\n"
     ]
    }
   ],
   "source": [
    "# 如果同时有整型和浮点型，会将数据类型定义为占字节数多的数据类型\n",
    "matrix3 = np.array([1.0, 2, 3])\n",
    "print(matrix3.dtype)\n",
    "print(type(matrix3[0]))"
   ]
  },
  {
   "cell_type": "code",
   "execution_count": 58,
   "metadata": {},
   "outputs": [
    {
     "name": "stdout",
     "output_type": "stream",
     "text": [
      "int8\n",
      "<class 'numpy.int8'>\n"
     ]
    }
   ],
   "source": [
    "# 也可以通过dtype参数指定数据类型\n",
    "matrix4 = np.array([1, 2, 3], dtype = np.int8)\n",
    "print(matrix4.dtype)\n",
    "print(type(matrix4[0]))"
   ]
  },
  {
   "cell_type": "code",
   "execution_count": 60,
   "metadata": {},
   "outputs": [
    {
     "name": "stdout",
     "output_type": "stream",
     "text": [
      "[1 2 3]\n",
      "int32\n",
      "<class 'numpy.int32'>\n"
     ]
    }
   ],
   "source": [
    "# 当数据本身与指定的数据类型不符合时，会将数据转化为指定的数据类型，生溢出\n",
    "matrix5 = np.array([1.0, 2.0, 3.0], dtype = np.int32)\n",
    "print(matrix5)\n",
    "print(matrix5.dtype)\n",
    "print(type(matrix5[0]))"
   ]
  },
  {
   "cell_type": "code",
   "execution_count": 69,
   "metadata": {},
   "outputs": [
    {
     "name": "stdout",
     "output_type": "stream",
     "text": [
      "[1 0 3]\n",
      "int8\n"
     ]
    }
   ],
   "source": [
    "# 但是有可能会发生溢出\n",
    "# 下面的代码指定数据类型为int8，它的数据范围为-128-127，而20000000.0超出了范围，\n",
    "# 会产生错误数字\n",
    "matrix6 = np.array([1.0, 20000000.0, 3.0], dtype = np.int8)\n",
    "print(matrix6)\n",
    "print(matrix6.dtype)"
   ]
  },
  {
   "cell_type": "code",
   "execution_count": 72,
   "metadata": {},
   "outputs": [
    {
     "name": "stdout",
     "output_type": "stream",
     "text": [
      "[[1 2]\n",
      " [3 4]]\n",
      "[[5 6]\n",
      " [7 8]]\n"
     ]
    }
   ],
   "source": [
    "#----------------------矩阵的运算-------------------------#\n",
    "x = np.array([[1, 2], [3, 4]])\n",
    "y = np.array([[5, 6], [7, 8]])\n",
    "print(x)\n",
    "print(y)"
   ]
  },
  {
   "cell_type": "code",
   "execution_count": 74,
   "metadata": {},
   "outputs": [
    {
     "name": "stdout",
     "output_type": "stream",
     "text": [
      "[[ 6  8]\n",
      " [10 12]]\n",
      "[[ 6  8]\n",
      " [10 12]]\n"
     ]
    }
   ],
   "source": [
    "# 两种加法表示\n",
    "sum1 = x + y # 直接用加号\n",
    "sum2 = np.add(x, y) # 使用numpy的函数\n",
    "print(sum1)\n",
    "print(sum2)"
   ]
  },
  {
   "cell_type": "code",
   "execution_count": 76,
   "metadata": {},
   "outputs": [
    {
     "name": "stdout",
     "output_type": "stream",
     "text": [
      "[[-4 -4]\n",
      " [-4 -4]]\n",
      "[[-4 -4]\n",
      " [-4 -4]]\n"
     ]
    }
   ],
   "source": [
    "# 两种减法表示\n",
    "subtract1 = x - y\n",
    "subtract2 = np.subtract(x, y)\n",
    "print(subtract1)\n",
    "print(subtract2)"
   ]
  },
  {
   "cell_type": "code",
   "execution_count": 80,
   "metadata": {},
   "outputs": [
    {
     "name": "stdout",
     "output_type": "stream",
     "text": [
      "[[ 5 12]\n",
      " [21 32]]\n",
      "[[ 5 12]\n",
      " [21 32]]\n"
     ]
    }
   ],
   "source": [
    "# 矩阵的对应元素相乘的两种表示\n",
    "production1 = x *  y\n",
    "production2 = np.multiply(x, y)\n",
    "print(production1)\n",
    "print(production2)"
   ]
  },
  {
   "cell_type": "code",
   "execution_count": 81,
   "metadata": {},
   "outputs": [
    {
     "name": "stdout",
     "output_type": "stream",
     "text": [
      "[[0.2        0.33333333]\n",
      " [0.42857143 0.5       ]]\n",
      "[[0.2        0.33333333]\n",
      " [0.42857143 0.5       ]]\n"
     ]
    }
   ],
   "source": [
    "# 矩阵的对应元素相除的两种表示\n",
    "divide1 = x / y\n",
    "divide2 = np.divide(x, y)\n",
    "print(divide1)\n",
    "print(divide2)"
   ]
  },
  {
   "cell_type": "code",
   "execution_count": 88,
   "metadata": {},
   "outputs": [
    {
     "name": "stdout",
     "output_type": "stream",
     "text": [
      "2.0\n",
      "<class 'float'>\n",
      "0.5\n",
      "<class 'float'>\n"
     ]
    }
   ],
   "source": [
    "# 顺便提一下python3的除法返回值类型\n",
    "# 使用 / 返回float\n",
    "a = 4 / 2\n",
    "print(a)\n",
    "print(type(a))\n",
    "\n",
    "b = 1.0 / 2.0\n",
    "print(b)\n",
    "print(type(b))"
   ]
  },
  {
   "cell_type": "code",
   "execution_count": 91,
   "metadata": {},
   "outputs": [
    {
     "name": "stdout",
     "output_type": "stream",
     "text": [
      "0\n",
      "<class 'int'>\n",
      "0.0\n",
      "<class 'float'>\n"
     ]
    }
   ],
   "source": [
    "# 使用 // 会进行取整操作\n",
    "a = 1 // 2\n",
    "print(a)\n",
    "print(type(a))\n",
    "\n",
    "b = 1 // 2.0\n",
    "print(b)\n",
    "print(type(b))"
   ]
  },
  {
   "cell_type": "code",
   "execution_count": 93,
   "metadata": {},
   "outputs": [
    {
     "name": "stdout",
     "output_type": "stream",
     "text": [
      "[[19 22]\n",
      " [43 50]]\n",
      "[[19 22]\n",
      " [43 50]]\n"
     ]
    }
   ],
   "source": [
    "# 矩阵的乘法的两种表示\n",
    "mulDot1 = x.dot(y)\n",
    "mulDot2 = np.dot(x, y)\n",
    "print(mulDot1)\n",
    "print(mulDot2)"
   ]
  },
  {
   "cell_type": "code",
   "execution_count": 100,
   "metadata": {},
   "outputs": [
    {
     "name": "stdout",
     "output_type": "stream",
     "text": [
      "(2,)\n",
      "(2,)\n",
      "11\n",
      "11\n",
      "[3 8]\n"
     ]
    }
   ],
   "source": [
    "# 向量的乘法也和矩阵乘法相似\n",
    "a = np.array([1, 2]) \n",
    "b = np.array([3, 4])\n",
    "print(a.shape)\n",
    "print(b.shape)\n",
    "print(a.dot(b))\n",
    "print(np.dot(a, b))\n",
    "print(a * b)"
   ]
  },
  {
   "cell_type": "code",
   "execution_count": 101,
   "metadata": {},
   "outputs": [
    {
     "name": "stdout",
     "output_type": "stream",
     "text": [
      "[[1 2]\n",
      " [3 4]]\n"
     ]
    }
   ],
   "source": [
    "# 矩阵的基本函数\n",
    "x = np.array([[1, 2], [3, 4]])\n",
    "print(x)"
   ]
  },
  {
   "cell_type": "code",
   "execution_count": 102,
   "metadata": {},
   "outputs": [
    {
     "name": "stdout",
     "output_type": "stream",
     "text": [
      "10\n"
     ]
    }
   ],
   "source": [
    "# 求和函数\n",
    "# 对所有元素求和\n",
    "sum_all = np.sum(x)\n",
    "print(sum_all)"
   ]
  },
  {
   "cell_type": "code",
   "execution_count": 103,
   "metadata": {},
   "outputs": [
    {
     "name": "stdout",
     "output_type": "stream",
     "text": [
      "[4 6]\n",
      "(2,)\n"
     ]
    }
   ],
   "source": [
    "# 对每一列求和，返回一维向量\n",
    "sum_0 = np.sum(x, 0)\n",
    "print(sum_0)\n",
    "print(sum_0.shape)"
   ]
  },
  {
   "cell_type": "code",
   "execution_count": 104,
   "metadata": {},
   "outputs": [
    {
     "name": "stdout",
     "output_type": "stream",
     "text": [
      "[3 7]\n",
      "(2,)\n"
     ]
    }
   ],
   "source": [
    "# 对每一行求和，返回一维向量\n",
    "sum_1 = np.sum(x, 1)\n",
    "print(sum_1)\n",
    "print(sum_1.shape)"
   ]
  },
  {
   "cell_type": "code",
   "execution_count": 105,
   "metadata": {},
   "outputs": [
    {
     "name": "stdout",
     "output_type": "stream",
     "text": [
      "[[1 3]\n",
      " [2 4]]\n"
     ]
    }
   ],
   "source": [
    "# 矩阵的转置\n",
    "transform = x.T\n",
    "print(transform)"
   ]
  },
  {
   "cell_type": "code",
   "execution_count": 106,
   "metadata": {},
   "outputs": [
    {
     "name": "stdout",
     "output_type": "stream",
     "text": [
      "[[1 2 3]\n",
      " [4 5 6]]\n",
      "(2, 3)\n"
     ]
    }
   ],
   "source": [
    "# 将一个矩阵或者向量进行维度调整的两种方法\n",
    "x = np.array([[1, 2, 3], [4, 5, 6]])\n",
    "print(x)\n",
    "print(x.shape)"
   ]
  },
  {
   "cell_type": "code",
   "execution_count": 107,
   "metadata": {},
   "outputs": [
    {
     "name": "stdout",
     "output_type": "stream",
     "text": [
      "[[1 2]\n",
      " [3 4]\n",
      " [5 6]]\n"
     ]
    }
   ],
   "source": [
    "y = x.reshape((3, 2))\n",
    "print(y)"
   ]
  },
  {
   "cell_type": "code",
   "execution_count": 108,
   "metadata": {},
   "outputs": [
    {
     "name": "stdout",
     "output_type": "stream",
     "text": [
      "[[1 2]\n",
      " [3 4]\n",
      " [5 6]]\n"
     ]
    }
   ],
   "source": [
    "z = np.reshape(x, (3, 2))\n",
    "print(z)"
   ]
  },
  {
   "cell_type": "code",
   "execution_count": 109,
   "metadata": {},
   "outputs": [
    {
     "name": "stdout",
     "output_type": "stream",
     "text": [
      "[[1 2]\n",
      " [3 4]\n",
      " [5 6]]\n",
      "(3, 2)\n"
     ]
    }
   ],
   "source": [
    "# 还可以在指定其他维的数值后，将最后一维写作-1，会自动计算这一维的数值\n",
    "p = x.reshape((3, -1))\n",
    "print(p)\n",
    "print(p.shape)"
   ]
  },
  {
   "cell_type": "code",
   "execution_count": null,
   "metadata": {},
   "outputs": [],
   "source": []
  }
 ],
 "metadata": {
  "kernelspec": {
   "display_name": "Python 3",
   "language": "python",
   "name": "python3"
  },
  "language_info": {
   "codemirror_mode": {
    "name": "ipython",
    "version": 3
   },
   "file_extension": ".py",
   "mimetype": "text/x-python",
   "name": "python",
   "nbconvert_exporter": "python",
   "pygments_lexer": "ipython3",
   "version": "3.6.5"
  }
 },
 "nbformat": 4,
 "nbformat_minor": 2
}
